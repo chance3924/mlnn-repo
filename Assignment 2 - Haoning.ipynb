{
 "cells": [
  {
   "cell_type": "code",
   "execution_count": 270,
   "metadata": {},
   "outputs": [],
   "source": [
    "import numpy as np\n",
    "import pandas as pd\n",
    "import scipy as sp"
   ]
  },
  {
   "cell_type": "code",
   "execution_count": 271,
   "metadata": {},
   "outputs": [],
   "source": [
    "%matplotlib inline\n",
    "import matplotlib.pyplot as plt\n",
    "plt.style.use('ggplot')"
   ]
  },
  {
   "cell_type": "code",
   "execution_count": 272,
   "metadata": {},
   "outputs": [
    {
     "name": "stdout",
     "output_type": "stream",
     "text": [
      "Overwriting hw_data.csv\n"
     ]
    }
   ],
   "source": [
    "%%file hw_data.csv\n",
    "id,sex,weight,height\n",
    "1,M,190,77\n",
    "2,F,120,70\n",
    "3,F,110,68\n",
    "4,M,150,72\n",
    "5,O,120,66\n",
    "6,M,120,60\n",
    "7,F,140,70"
   ]
  },
  {
   "cell_type": "markdown",
   "metadata": {},
   "source": [
    "# Python"
   ]
  },
  {
   "cell_type": "markdown",
   "metadata": {},
   "source": [
    "## 1. Finish creating the following function that takes a list and returns the average value."
   ]
  },
  {
   "cell_type": "code",
   "execution_count": 273,
   "metadata": {},
   "outputs": [
    {
     "data": {
      "text/plain": [
       "3.375"
      ]
     },
     "execution_count": 273,
     "metadata": {},
     "output_type": "execute_result"
    }
   ],
   "source": [
    "def average(my_list):\n",
    "    total = 0\n",
    "    for item in my_list:\n",
    "        total = total + item\n",
    "    avg = total / len(my_list)\n",
    "            #do something with item!\n",
    "    \n",
    "    return avg\n",
    "\n",
    "average([1,2,1,4,3,2,5,9])"
   ]
  },
  {
   "cell_type": "markdown",
   "metadata": {},
   "source": [
    "## 2. Using a Dictionary keep track of the count of numbers (or items) from a list"
   ]
  },
  {
   "cell_type": "code",
   "execution_count": 274,
   "metadata": {},
   "outputs": [
    {
     "data": {
      "text/plain": [
       "{1: 2, 2: 2, 4: 1, 3: 1, 5: 1, 9: 1}"
      ]
     },
     "execution_count": 274,
     "metadata": {},
     "output_type": "execute_result"
    }
   ],
   "source": [
    "def counts(my_list):\n",
    "    counts = dict()\n",
    "    for item in my_list:\n",
    "        if item in counts:\n",
    "            counts[item] = counts[item] + 1\n",
    "        else:\n",
    "            counts[item] = 1\n",
    "        \n",
    "        #do something with item!\n",
    "    \n",
    "    return counts\n",
    "\n",
    "counts([1,2,1,4,3,2,5,9])    "
   ]
  },
  {
   "cell_type": "markdown",
   "metadata": {},
   "source": [
    "## 3.  Using the `counts()` function and the `.split()` function, return a dictionary of most occuring words from the following paragraph. Bonus, remove punctuation from words."
   ]
  },
  {
   "cell_type": "code",
   "execution_count": 275,
   "metadata": {},
   "outputs": [
    {
     "name": "stdout",
     "output_type": "stream",
     "text": [
      "{'For': 2, 'a': 15, 'minute': 1, 'or': 2, 'two': 2, 'she': 6, 'stood': 1, 'looking': 2, 'at': 6, 'the': 32, 'house,': 1, 'and': 16, 'wondering': 1, 'what': 2, 'to': 15, 'do': 1, 'next,': 1, 'when': 2, 'suddenly': 1, 'footman': 3, 'in': 7, 'livery': 1, 'came': 2, 'running': 1, 'out': 3, 'of': 9, 'wood—(she': 1, 'considered': 1, 'him': 2, 'be': 2, 'because': 3, 'he': 5, 'was': 8, 'livery:': 1, 'otherwise,': 1, 'judging': 1, 'by': 3, 'his': 5, 'face': 1, 'only,': 1, 'would': 1, 'have': 1, 'called': 1, 'fish)—and': 1, 'rapped': 1, 'loudly': 1, 'door': 4, 'with': 2, 'knuckles.': 1, 'It': 1, 'opened': 1, 'another': 1, 'livery,': 1, 'round': 1, 'face,': 1, 'large': 3, 'eyes': 2, 'like': 1, 'frog;': 1, 'both': 2, 'footmen,': 1, 'Alice': 4, 'noticed,': 1, 'had': 4, 'powdered': 1, 'hair': 1, 'that': 3, 'curled': 1, 'all': 3, 'over': 2, 'their': 3, 'heads.': 1, 'She': 1, 'felt': 1, 'very': 2, 'curious': 1, 'know': 1, 'it': 2, 'about,': 1, 'crept': 1, 'little': 1, 'way': 1, 'wood': 2, 'listen.': 1, 'The': 2, 'Fish-Footman': 2, 'began': 1, 'producing': 1, 'from': 2, 'under': 1, 'arm': 1, 'great': 2, 'letter,': 1, 'nearly': 2, 'as': 4, 'himself,': 1, 'this': 3, 'handed': 1, 'other,': 1, 'saying,': 1, 'solemn': 2, 'tone,': 2, '‘For': 1, 'Duchess.': 1, 'An': 2, 'invitation': 2, 'Queen': 1, 'play': 2, 'croquet.’': 2, 'Frog-Footman': 1, 'repeated,': 2, 'same': 2, 'only': 1, 'changing': 1, 'order': 1, 'words': 1, 'little,': 1, '‘From': 1, 'Queen.': 1, 'for': 3, 'Duchess': 1, 'Then': 1, 'they': 1, 'bowed': 1, 'low,': 1, 'curls': 1, 'got': 1, 'entangled': 1, 'together.': 1, 'laughed': 1, 'so': 2, 'much': 1, 'this,': 1, 'run': 1, 'back': 1, 'into': 3, 'fear': 1, 'hearing': 1, 'her;': 1, 'next': 1, 'peeped': 1, 'gone,': 1, 'other': 1, 'sitting': 1, 'on': 4, 'ground': 1, 'near': 1, 'door,': 2, 'staring': 1, 'stupidly': 1, 'up': 3, 'sky.': 1, 'went': 2, 'timidly': 1, 'knocked.': 1, '‘There’s': 1, 'no': 2, 'sort': 1, 'use': 1, 'knocking,’': 2, 'said': 3, 'Footman,': 1, '‘and': 1, 'reasons.': 1, 'First,': 1, 'I’m': 1, 'side': 1, 'you': 5, 'are;': 1, 'secondly,': 1, 'they’re': 1, 'making': 1, 'such': 1, 'noise': 2, 'inside,': 2, 'one': 2, 'could': 2, 'possibly': 1, 'hear': 1, 'you.’': 1, 'And': 1, 'certainly': 1, 'there': 1, 'most': 1, 'extraordinary': 1, 'going': 1, 'within—a': 1, 'constant': 1, 'howling': 1, 'sneezing,': 1, 'every': 1, 'now': 1, 'then': 1, 'crash,': 1, 'if': 2, 'dish': 1, 'kettle': 1, 'been': 1, 'broken': 1, 'pieces.': 1, '‘Please,': 1, 'then,’': 1, 'Alice,': 1, '‘how': 1, 'am': 2, 'I': 3, 'get': 2, 'in?’': 2, '‘There': 1, 'might': 3, 'some': 1, 'sense': 1, 'your': 1, 'Footman': 2, 'without': 1, 'attending': 1, 'her,': 1, '‘if': 1, 'we': 1, 'between': 1, 'us.': 1, 'instance,': 1, 'were': 1, 'knock,': 1, 'let': 1, 'out,': 2, 'know.’': 1, 'He': 1, 'sky': 1, 'time': 1, 'speaking,': 1, 'thought': 1, 'decidedly': 1, 'uncivil.': 1, '‘But': 1, 'perhaps': 1, 'can’t': 1, 'help': 1, 'it,’': 1, 'herself;': 1, '‘his': 1, 'are': 1, 'top': 1, 'head.': 1, 'But': 1, 'any': 1, 'rate': 1, 'answer': 1, 'questions.—How': 1, 'aloud.': 1, '‘I': 1, 'shall': 1, 'sit': 1, 'here,’': 1, 'remarked,': 1, '‘till': 1, 'tomorrow—’': 1, 'At': 1, 'moment': 1, 'house': 1, 'opened,': 1, 'plate': 1, 'skimming': 1, 'straight': 1, 'Footman’s': 1, 'head:': 1, 'just': 1, 'grazed': 1, 'nose,': 1, 'broke': 1, 'pieces': 1, 'against': 1, 'trees': 1, 'behind': 1, 'him.': 1}\n",
      "['the', 'and', 'a']\n",
      "\n",
      "For a minute or two she stood looking at the house and wondering what to do next when suddenly a footman in livery came running out of the woodshe considered him to be a footman because he was in livery otherwise judging by his face only she would have called him a fishand rapped loudly at the door with his knuckles It was opened by another footman in livery with a round face and large eyes like a frog and both footmen Alice noticed had powdered hair that curled all over their heads She felt very curious to know what it was all about and crept a little way out of the wood to listen\n",
      "The FishFootman began by producing from under his arm a great letter nearly as large as himself and this he handed over to the other saying in a solemn tone For the Duchess An invitation from the Queen to play croquet The FrogFootman repeated in the same solemn tone only changing the order of the words a little From the Queen An invitation for the Duchess to play croquet\n",
      "Then they both bowed low and their curls got entangled together\n",
      "Alice laughed so much at this that she had to run back into the wood for fear of their hearing her and when she next peeped out the FishFootman was gone and the other was sitting on the ground near the door staring stupidly up into the sky\n",
      "Alice went timidly up to the door and knocked\n",
      "Theres no sort of use in knocking said the Footman and that for two reasons First because Im on the same side of the door as you are secondly because theyre making such a noise inside no one could possibly hear you And certainly there was a most extraordinary noise going on withina constant howling and sneezing and every now and then a great crash as if a dish or kettle had been broken to pieces\n",
      "Please then said Alice how am I to get in\n",
      "There might be some sense in your knocking the Footman went on without attending to her if we had the door between us For instance if you were inside you might knock and I could let you out you know He was looking up into the sky all the time he was speaking and this Alice thought decidedly uncivil But perhaps he cant help it she said to herself his eyes are so very nearly at the top of his head But at any rate he might answer questionsHow am I to get in she repeated aloud\n",
      "I shall sit here the Footman remarked till tomorrow\n",
      "At this moment the door of the house opened and a large plate came skimming out straight at the Footmans head it just grazed his nose and broke to pieces against one of the trees behind him\n"
     ]
    }
   ],
   "source": [
    "paragraph_text = '''\n",
    "For a minute or two she stood looking at the house, and wondering what to do next, when suddenly a footman in livery came running out of the wood—(she considered him to be a footman because he was in livery: otherwise, judging by his face only, she would have called him a fish)—and rapped loudly at the door with his knuckles. It was opened by another footman in livery, with a round face, and large eyes like a frog; and both footmen, Alice noticed, had powdered hair that curled all over their heads. She felt very curious to know what it was all about, and crept a little way out of the wood to listen.\n",
    "The Fish-Footman began by producing from under his arm a great letter, nearly as large as himself, and this he handed over to the other, saying, in a solemn tone, ‘For the Duchess. An invitation from the Queen to play croquet.’ The Frog-Footman repeated, in the same solemn tone, only changing the order of the words a little, ‘From the Queen. An invitation for the Duchess to play croquet.’\n",
    "Then they both bowed low, and their curls got entangled together.\n",
    "Alice laughed so much at this, that she had to run back into the wood for fear of their hearing her; and when she next peeped out the Fish-Footman was gone, and the other was sitting on the ground near the door, staring stupidly up into the sky.\n",
    "Alice went timidly up to the door, and knocked.\n",
    "‘There’s no sort of use in knocking,’ said the Footman, ‘and that for two reasons. First, because I’m on the same side of the door as you are; secondly, because they’re making such a noise inside, no one could possibly hear you.’ And certainly there was a most extraordinary noise going on within—a constant howling and sneezing, and every now and then a great crash, as if a dish or kettle had been broken to pieces.\n",
    "‘Please, then,’ said Alice, ‘how am I to get in?’\n",
    "‘There might be some sense in your knocking,’ the Footman went on without attending to her, ‘if we had the door between us. For instance, if you were inside, you might knock, and I could let you out, you know.’ He was looking up into the sky all the time he was speaking, and this Alice thought decidedly uncivil. ‘But perhaps he can’t help it,’ she said to herself; ‘his eyes are so very nearly at the top of his head. But at any rate he might answer questions.—How am I to get in?’ she repeated, aloud.\n",
    "‘I shall sit here,’ the Footman remarked, ‘till tomorrow—’\n",
    "At this moment the door of the house opened, and a large plate came skimming out, straight at the Footman’s head: it just grazed his nose, and broke to pieces against one of the trees behind him.'''\n",
    "\n",
    "words = counts(paragraph_text.split())\n",
    "print(words)\n",
    "most = sorted(words, key=words.get, reverse=True)[:3]\n",
    "print(most)\n",
    "\n",
    "import re\n",
    "res = re.sub(r'[^\\w\\s]', '', paragraph_text)\n",
    "print(res)\n"
   ]
  },
  {
   "cell_type": "markdown",
   "metadata": {},
   "source": [
    "## 4. Read in a file and write each line from the file to a new file Title-ized\n",
    "\n",
    "`This is the first line` ->  `This Is The First Line`\n",
    "\n",
    "Hint: There's a function to do this"
   ]
  },
  {
   "cell_type": "code",
   "execution_count": 276,
   "metadata": {},
   "outputs": [
    {
     "name": "stdout",
     "output_type": "stream",
     "text": [
      "We Can Get The Girls Together And Get Them All The Time To Do The Best \n",
      "Of All Time To You Guys Are In A Safe Spot In My Life And My Sister And I \n",
      "Love Them All The Way Back In A Little \n",
      "While I Love It So Many Things That Are Good To Me \n",
      "Is It A Little More Time If I Can Make A Deal For Him And Then The Next One I Was Thinking \n",
      "About Going Back Down There And Then We Can Go To A Different \n",
      "Place And I Don'T Think They Are Going On A Trip To The Airport In A Few Minutes \n"
     ]
    }
   ],
   "source": [
    "file = open('file.txt', 'r')\n",
    "text = file.read()\n",
    "print(text.title())\n"
   ]
  },
  {
   "cell_type": "markdown",
   "metadata": {},
   "source": [
    "# Numpy"
   ]
  },
  {
   "cell_type": "markdown",
   "metadata": {},
   "source": [
    "## 1. Given a list, find the average using a numpy function. "
   ]
  },
  {
   "cell_type": "code",
   "execution_count": 277,
   "metadata": {},
   "outputs": [
    {
     "data": {
      "text/plain": [
       "3.375"
      ]
     },
     "execution_count": 277,
     "metadata": {},
     "output_type": "execute_result"
    }
   ],
   "source": [
    "simple_list = [1,2,1,4,3,2,5,9]\n",
    "\n",
    "np.mean(simple_list)"
   ]
  },
  {
   "cell_type": "markdown",
   "metadata": {},
   "source": [
    "## 2. Given two lists of Heights and Weights of individual, calculate the BMI of those individuals, without writing a `for-loop`"
   ]
  },
  {
   "cell_type": "code",
   "execution_count": 278,
   "metadata": {},
   "outputs": [
    {
     "name": "stdout",
     "output_type": "stream",
     "text": [
      "[29.06592681 27.73229978 30.73941662 24.16326531 26.33288875]\n"
     ]
    }
   ],
   "source": [
    "heights = [174, 173, 173, 175, 171]\n",
    "weights = [88, 83, 92, 74, 77]\n",
    "\n",
    "arr_h = np.array(heights)\n",
    "arr_w = np.array(weights)\n",
    "bmi = arr_w / (arr_h * arr_h) * 10000\n",
    "print(bmi)"
   ]
  },
  {
   "cell_type": "markdown",
   "metadata": {},
   "source": [
    "## 3. Create an array of length 20 filled with random values (between 0 to 1) "
   ]
  },
  {
   "cell_type": "code",
   "execution_count": 279,
   "metadata": {},
   "outputs": [
    {
     "name": "stdout",
     "output_type": "stream",
     "text": [
      "[0.53476273 0.38907157 0.73178366 0.33663701 0.33379193 0.40228618\n",
      " 0.6595898  0.52087537 0.06464831 0.03260972 0.61650067 0.18389151\n",
      " 0.50239336 0.6417343  0.47548279 0.53382505 0.33008437 0.36895169\n",
      " 0.76860697 0.48589037]\n"
     ]
    }
   ],
   "source": [
    "array1 = np.random.random(20)\n",
    "print(array1)"
   ]
  },
  {
   "cell_type": "markdown",
   "metadata": {},
   "source": [
    "## Bonus. 1. Create an array with a large (>1000) length filled with random numbers from different distributions (normal, uniform, etc.). 2. Then, plot a histogram of these values. "
   ]
  },
  {
   "cell_type": "code",
   "execution_count": 280,
   "metadata": {
    "scrolled": false
   },
   "outputs": [
    {
     "data": {
      "text/plain": [
       "(array([[  13.,  105.,  427., 1060., 1571., 1112.,  521.,  161.,   26.,\n",
       "            3.],\n",
       "        [   0.,    0.,    0., 1425., 1882., 1692.,    0.,    0.,    0.,\n",
       "            0.]]),\n",
       " array([-3.48003337, -2.71804864, -1.95606391, -1.19407918, -0.43209445,\n",
       "         0.32989027,  1.091875  ,  1.85385973,  2.61584446,  3.37782919,\n",
       "         4.13981392]),\n",
       " <a list of 2 BarContainer objects>)"
      ]
     },
     "execution_count": 280,
     "metadata": {},
     "output_type": "execute_result"
    },
    {
     "data": {
      "image/png": "[encoded data removed]",
      "text/plain": [
       "<Figure size 432x288 with 1 Axes>"
      ]
     },
     "metadata": {},
     "output_type": "display_data"
    }
   ],
   "source": [
    "array2 = np.random.normal(0, 1, size = 5000)\n",
    "array3 = np.random.uniform(-1, 1, size = 5000)\n",
    "a = [array2[0:4999], array3[0: 4999]]\n",
    "plt.hist(a)\n"
   ]
  },
  {
   "cell_type": "markdown",
   "metadata": {},
   "source": [
    "# Pandas"
   ]
  },
  {
   "cell_type": "markdown",
   "metadata": {},
   "source": [
    "## 1. Read in a CSV () and display all the columns and their respective data types "
   ]
  },
  {
   "cell_type": "code",
   "execution_count": 281,
   "metadata": {
    "scrolled": true
   },
   "outputs": [
    {
     "data": {
      "text/plain": [
       "Index(['sex', 'weight', 'height'], dtype='object')"
      ]
     },
     "execution_count": 281,
     "metadata": {},
     "output_type": "execute_result"
    }
   ],
   "source": [
    "df = pd.read_csv('hw_data.csv', index_col='id', parse_dates=True)\n",
    "df.columns"
   ]
  },
  {
   "cell_type": "markdown",
   "metadata": {},
   "source": [
    "## 2. Find the average weight "
   ]
  },
  {
   "cell_type": "code",
   "execution_count": 282,
   "metadata": {},
   "outputs": [
    {
     "data": {
      "text/plain": [
       "135.71428571428572"
      ]
     },
     "execution_count": 282,
     "metadata": {},
     "output_type": "execute_result"
    }
   ],
   "source": [
    "np.mean(df['weight'])"
   ]
  },
  {
   "cell_type": "markdown",
   "metadata": {},
   "source": [
    "## 3. Find the Value Counts on column `sex` "
   ]
  },
  {
   "cell_type": "code",
   "execution_count": 283,
   "metadata": {},
   "outputs": [
    {
     "data": {
      "text/plain": [
       "{'M': 3, 'F': 3, 'O': 1}"
      ]
     },
     "execution_count": 283,
     "metadata": {},
     "output_type": "execute_result"
    }
   ],
   "source": [
    "counts(df['sex'])"
   ]
  },
  {
   "cell_type": "markdown",
   "metadata": {},
   "source": [
    "## 4. Plot Height vs. Weight "
   ]
  },
  {
   "cell_type": "code",
   "execution_count": 284,
   "metadata": {},
   "outputs": [
    {
     "data": {
      "image/png": "[encoded data removed]",
      "text/plain": [
       "<Figure size 432x288 with 1 Axes>"
      ]
     },
     "metadata": {},
     "output_type": "display_data"
    }
   ],
   "source": [
    "plt.scatter(df['height'], df['weight'])\n",
    "plt.show()"
   ]
  },
  {
   "cell_type": "markdown",
   "metadata": {},
   "source": [
    "## 5. Calculate BMI and save as a new column"
   ]
  },
  {
   "cell_type": "code",
   "execution_count": 285,
   "metadata": {},
   "outputs": [
    {
     "data": {
      "text/html": [
       "<div>\n",
       "<style scoped>\n",
       "    .dataframe tbody tr th:only-of-type {\n",
       "        vertical-align: middle;\n",
       "    }\n",
       "\n",
       "    .dataframe tbody tr th {\n",
       "        vertical-align: top;\n",
       "    }\n",
       "\n",
       "    .dataframe thead th {\n",
       "        text-align: right;\n",
       "    }\n",
       "</style>\n",
       "<table border=\"1\" class=\"dataframe\">\n",
       "  <thead>\n",
       "    <tr style=\"text-align: right;\">\n",
       "      <th></th>\n",
       "      <th>sex</th>\n",
       "      <th>weight</th>\n",
       "      <th>height</th>\n",
       "      <th>BMI</th>\n",
       "    </tr>\n",
       "    <tr>\n",
       "      <th>id</th>\n",
       "      <th></th>\n",
       "      <th></th>\n",
       "      <th></th>\n",
       "      <th></th>\n",
       "    </tr>\n",
       "  </thead>\n",
       "  <tbody>\n",
       "    <tr>\n",
       "      <th>1</th>\n",
       "      <td>M</td>\n",
       "      <td>190</td>\n",
       "      <td>77</td>\n",
       "      <td>0.032046</td>\n",
       "    </tr>\n",
       "    <tr>\n",
       "      <th>2</th>\n",
       "      <td>F</td>\n",
       "      <td>120</td>\n",
       "      <td>70</td>\n",
       "      <td>0.024490</td>\n",
       "    </tr>\n",
       "    <tr>\n",
       "      <th>3</th>\n",
       "      <td>F</td>\n",
       "      <td>110</td>\n",
       "      <td>68</td>\n",
       "      <td>0.023789</td>\n",
       "    </tr>\n",
       "    <tr>\n",
       "      <th>4</th>\n",
       "      <td>M</td>\n",
       "      <td>150</td>\n",
       "      <td>72</td>\n",
       "      <td>0.028935</td>\n",
       "    </tr>\n",
       "    <tr>\n",
       "      <th>5</th>\n",
       "      <td>O</td>\n",
       "      <td>120</td>\n",
       "      <td>66</td>\n",
       "      <td>0.027548</td>\n",
       "    </tr>\n",
       "    <tr>\n",
       "      <th>6</th>\n",
       "      <td>M</td>\n",
       "      <td>120</td>\n",
       "      <td>60</td>\n",
       "      <td>0.033333</td>\n",
       "    </tr>\n",
       "    <tr>\n",
       "      <th>7</th>\n",
       "      <td>F</td>\n",
       "      <td>140</td>\n",
       "      <td>70</td>\n",
       "      <td>0.028571</td>\n",
       "    </tr>\n",
       "  </tbody>\n",
       "</table>\n",
       "</div>"
      ],
      "text/plain": [
       "   sex  weight  height       BMI\n",
       "id                              \n",
       "1    M     190      77  0.032046\n",
       "2    F     120      70  0.024490\n",
       "3    F     110      68  0.023789\n",
       "4    M     150      72  0.028935\n",
       "5    O     120      66  0.027548\n",
       "6    M     120      60  0.033333\n",
       "7    F     140      70  0.028571"
      ]
     },
     "execution_count": 285,
     "metadata": {},
     "output_type": "execute_result"
    }
   ],
   "source": [
    "df['BMI'] = df['weight'] / (df['height'] * df['height'])\n",
    "df"
   ]
  },
  {
   "cell_type": "markdown",
   "metadata": {},
   "source": [
    "## 6. Save sheet as a new CSV file `hw_dataB.csv`"
   ]
  },
  {
   "cell_type": "code",
   "execution_count": 286,
   "metadata": {},
   "outputs": [],
   "source": [
    "df.to_csv('hw_dataB.csv')"
   ]
  },
  {
   "cell_type": "markdown",
   "metadata": {},
   "source": [
    "## Run the following"
   ]
  },
  {
   "cell_type": "code",
   "execution_count": 287,
   "metadata": {},
   "outputs": [
    {
     "name": "stdout",
     "output_type": "stream",
     "text": [
      "id,sex,weight,height,BMI\r\n",
      "1,M,190,77,0.03204587620172036\r\n",
      "2,F,120,70,0.024489795918367346\r\n",
      "3,F,110,68,0.02378892733564014\r\n",
      "4,M,150,72,0.028935185185185185\r\n",
      "5,O,120,66,0.027548209366391185\r\n",
      "6,M,120,60,0.03333333333333333\r\n",
      "7,F,140,70,0.02857142857142857\r\n"
     ]
    }
   ],
   "source": [
    "!cat hw_dataB.csv"
   ]
  },
  {
   "cell_type": "code",
   "execution_count": null,
   "metadata": {},
   "outputs": [],
   "source": []
  },
  {
   "cell_type": "code",
   "execution_count": null,
   "metadata": {},
   "outputs": [],
   "source": []
  }
 ],
 "metadata": {
  "kernelspec": {
   "display_name": "Python 3 (ipykernel)",
   "language": "python",
   "name": "python3"
  },
  "language_info": {
   "codemirror_mode": {
    "name": "ipython",
    "version": 3
   },
   "file_extension": ".py",
   "mimetype": "text/x-python",
   "name": "python",
   "nbconvert_exporter": "python",
   "pygments_lexer": "ipython3",
   "version": "3.9.7"
  }
 },
 "nbformat": 4,
 "nbformat_minor": 1
}
